{
  "nbformat": 4,
  "nbformat_minor": 0,
  "metadata": {
    "colab": {
      "provenance": []
    },
    "kernelspec": {
      "name": "python3",
      "display_name": "Python 3"
    },
    "language_info": {
      "name": "python"
    }
  },
  "cells": [
    {
      "cell_type": "code",
      "source": [
        "# Install neccesary packages\n",
        "!pip install biopython sparse\n",
        "\n",
        "# Download ProPedia structures\n",
        "!wget http://bioinfo.dcc.ufmg.br/propedia2/public/download/complex2_3.zip\n",
        "\n",
        "# Download ProPedia sequences\n",
        "!wget http://bioinfo.dcc.ufmg.br/propedia2/public/download/sequences2_3.zip\n",
        "\n",
        "# Unzip\n",
        "!unzip -qq /content/complex2_3.zip\n",
        "!unzip -qq /content/sequences2_3.zip"
      ],
      "metadata": {
        "id": "LwfDFavJNpHR",
        "colab": {
          "base_uri": "https://localhost:8080/"
        },
        "outputId": "1f0436a6-6513-4980-ef90-99adfa41e1ce"
      },
      "execution_count": 1,
      "outputs": [
        {
          "output_type": "stream",
          "name": "stdout",
          "text": [
            "Collecting biopython\n",
            "  Downloading biopython-1.84-cp310-cp310-manylinux_2_17_x86_64.manylinux2014_x86_64.whl.metadata (12 kB)\n",
            "Collecting sparse\n",
            "  Downloading sparse-0.15.4-py2.py3-none-any.whl.metadata (4.5 kB)\n",
            "Requirement already satisfied: numpy in /usr/local/lib/python3.10/dist-packages (from biopython) (1.26.4)\n",
            "Requirement already satisfied: scipy>=0.19 in /usr/local/lib/python3.10/dist-packages (from sparse) (1.13.1)\n",
            "Requirement already satisfied: numba>=0.49 in /usr/local/lib/python3.10/dist-packages (from sparse) (0.60.0)\n",
            "Requirement already satisfied: llvmlite<0.44,>=0.43.0dev0 in /usr/local/lib/python3.10/dist-packages (from numba>=0.49->sparse) (0.43.0)\n",
            "Downloading biopython-1.84-cp310-cp310-manylinux_2_17_x86_64.manylinux2014_x86_64.whl (3.2 MB)\n",
            "\u001b[2K   \u001b[90m━━━━━━━━━━━━━━━━━━━━━━━━━━━━━━━━━━━━━━━━\u001b[0m \u001b[32m3.2/3.2 MB\u001b[0m \u001b[31m20.5 MB/s\u001b[0m eta \u001b[36m0:00:00\u001b[0m\n",
            "\u001b[?25hDownloading sparse-0.15.4-py2.py3-none-any.whl (237 kB)\n",
            "\u001b[2K   \u001b[90m━━━━━━━━━━━━━━━━━━━━━━━━━━━━━━━━━━━━━━━━\u001b[0m \u001b[32m237.3/237.3 kB\u001b[0m \u001b[31m9.6 MB/s\u001b[0m eta \u001b[36m0:00:00\u001b[0m\n",
            "\u001b[?25hInstalling collected packages: biopython, sparse\n",
            "Successfully installed biopython-1.84 sparse-0.15.4\n",
            "--2024-11-16 17:45:38--  http://bioinfo.dcc.ufmg.br/propedia2/public/download/complex2_3.zip\n",
            "Resolving bioinfo.dcc.ufmg.br (bioinfo.dcc.ufmg.br)... 150.164.203.91\n",
            "Connecting to bioinfo.dcc.ufmg.br (bioinfo.dcc.ufmg.br)|150.164.203.91|:80... connected.\n",
            "HTTP request sent, awaiting response... 200 OK\n",
            "Length: 2524597712 (2.4G) [application/zip]\n",
            "Saving to: ‘complex2_3.zip’\n",
            "\n",
            "complex2_3.zip      100%[===================>]   2.35G  21.3MB/s    in 1m 55s  \n",
            "\n",
            "2024-11-16 17:47:33 (20.9 MB/s) - ‘complex2_3.zip’ saved [2524597712/2524597712]\n",
            "\n",
            "--2024-11-16 17:47:33--  http://bioinfo.dcc.ufmg.br/propedia2/public/download/sequences2_3.zip\n",
            "Resolving bioinfo.dcc.ufmg.br (bioinfo.dcc.ufmg.br)... 150.164.203.91\n",
            "Connecting to bioinfo.dcc.ufmg.br (bioinfo.dcc.ufmg.br)|150.164.203.91|:80... connected.\n",
            "HTTP request sent, awaiting response... 200 OK\n",
            "Length: 39569909 (38M) [application/zip]\n",
            "Saving to: ‘sequences2_3.zip’\n",
            "\n",
            "sequences2_3.zip    100%[===================>]  37.74M  14.6MB/s    in 2.6s    \n",
            "\n",
            "2024-11-16 17:47:36 (14.6 MB/s) - ‘sequences2_3.zip’ saved [39569909/39569909]\n",
            "\n"
          ]
        }
      ]
    },
    {
      "cell_type": "code",
      "source": [
        "#@title Generate sequence/contact data\n",
        "\n",
        "# Collect as many sequences as possible from propedia\n",
        "# Get their sequences and contact maps\n",
        "\n",
        "import os\n",
        "import numpy as np\n",
        "from tqdm import tqdm\n",
        "from Bio import SeqIO\n",
        "from Bio.PDB import PDBParser\n",
        "import matplotlib.pyplot as plt\n",
        "\n",
        "# For storing data\n",
        "proteins = []\n",
        "peptides = []\n",
        "contacts = np.zeros((100_000, 52, 770))\n",
        "\n",
        "# Important parameters\n",
        "CUTOFF = 12.0\n",
        "maxPepLen = 50\n",
        "maxProLen = 768\n",
        "failed = 0\n",
        "\n",
        "with os.scandir('./complex') as it:\n",
        "  for entry in tqdm(it):\n",
        "    if entry.name.endswith(\".pdb\") and entry.is_file():\n",
        "        # Extract pdb id and chains\n",
        "        id, pepchain, prochain = entry.name.split('.')[0].split('_')\n",
        "\n",
        "        # Get peptide sequence\n",
        "        for record in SeqIO.parse(f\"./peptide/{id}_{pepchain}.fasta\", \"fasta\"):\n",
        "          pep_seq = str(record.seq)\n",
        "\n",
        "        # Get protein sequence\n",
        "        for record in SeqIO.parse(f\"./receptor/{id}_{prochain}.fasta\", \"fasta\"):\n",
        "          pro_seq = str(record.seq)\n",
        "\n",
        "        # Skip non-canonical amino acids, invalid lengths, etc\n",
        "        if 'X' in pep_seq or 'X' in pro_seq or len(pro_seq) > maxProLen:\n",
        "          continue\n",
        "\n",
        "        # Get pdb\n",
        "        parser = PDBParser()\n",
        "        structure = parser.get_structure('pdb', f'./complex/{entry.name}')\n",
        "        pep_chain = structure[0][pepchain]\n",
        "        pro_chain = structure[0][prochain]\n",
        "\n",
        "        # Select chains\n",
        "        pep_residues = [r for r in pep_chain.get_residues()]\n",
        "        rec_residues = [r for r in pro_chain.get_residues()]\n",
        "\n",
        "        # Skip if pdb sequence length is not fasta sequence len\n",
        "        if len(list(pep_chain.get_residues())) != len(pep_seq): continue\n",
        "        if len(list(pro_chain.get_residues())) != len(pro_seq): continue\n",
        "\n",
        "        # Get binary contact matrix\n",
        "        try:\n",
        "          distances = np.zeros((maxPepLen, maxProLen))\n",
        "          for x in range(min(len(pep_seq), maxPepLen)):\n",
        "            for y in range(min(len(pro_seq), maxProLen)):\n",
        "              one = pep_residues[x]['CA'].get_coord()\n",
        "              two = rec_residues[y]['CA'].get_coord()\n",
        "              d = np.linalg.norm(one-two)\n",
        "              if d <= CUTOFF:\n",
        "                distances[x, y] = 1\n",
        "              else:\n",
        "                distances[x, y] = 0\n",
        "        except:\n",
        "          failed += 1\n",
        "          # print(f'{failed} failed')\n",
        "          # print(f'{len(peptides)} succeeded')\n",
        "          # print(f'{contacts.sum()} total contacts')\n",
        "          continue\n",
        "\n",
        "        # Pad the out side of the matrix with 0's (to account for bos/eos)\n",
        "        distances = np.pad(distances, 1, 'constant', constant_values=(0))\n",
        "\n",
        "        if len(pro_seq) <= maxProLen and distances.sum() > 0:\n",
        "          peptides.append(pep_seq)\n",
        "          proteins.append(pro_seq)\n",
        "          contacts[len(peptides)-1] = distances"
      ],
      "metadata": {
        "id": "b4nnirjGPmbn",
        "colab": {
          "base_uri": "https://localhost:8080/"
        },
        "outputId": "603eba8e-0348-456b-e754-4f44dbcd4a60",
        "cellView": "form"
      },
      "execution_count": 2,
      "outputs": [
        {
          "output_type": "stream",
          "name": "stderr",
          "text": [
            "49297it [32:47, 25.05it/s]\n"
          ]
        }
      ]
    },
    {
      "cell_type": "code",
      "source": [
        "contacts = contacts[:len(peptides)]\n",
        "print(len(peptides))\n",
        "print(len(proteins))\n",
        "contacts.shape"
      ],
      "metadata": {
        "colab": {
          "base_uri": "https://localhost:8080/"
        },
        "id": "3gu-ODdQOAxe",
        "outputId": "a73570cb-8fdf-4ce4-f754-9f42ae26bf8a"
      },
      "execution_count": 3,
      "outputs": [
        {
          "output_type": "stream",
          "name": "stdout",
          "text": [
            "17287\n",
            "17287\n"
          ]
        },
        {
          "output_type": "execute_result",
          "data": {
            "text/plain": [
              "(17287, 52, 770)"
            ]
          },
          "metadata": {},
          "execution_count": 3
        }
      ]
    },
    {
      "cell_type": "code",
      "source": [
        "# Remove duplicate peptide/protein pairs.\n",
        "import sparse\n",
        "import pandas as pd\n",
        "df = pd.DataFrame({\n",
        "    'sequence': peptides,\n",
        "    'receptor': proteins,\n",
        "    'contacts': list(range(contacts.shape[0]))\n",
        "})\n",
        "df = df.drop_duplicates(subset=[\"sequence\", \"receptor\"]).reset_index()\n",
        "contacts = contacts[df['contacts'].tolist()]\n",
        "\n",
        "proteins = df['receptor'].tolist()\n",
        "peptides = df['sequence'].tolist()\n",
        "\n",
        "print(len(proteins))\n",
        "print(len(peptides))\n",
        "print(contacts.shape)"
      ],
      "metadata": {
        "colab": {
          "base_uri": "https://localhost:8080/"
        },
        "id": "dWkoJ26kg4Yp",
        "outputId": "f316c3c7-4faf-4007-8440-53dc5e1ce2e9"
      },
      "execution_count": 4,
      "outputs": [
        {
          "output_type": "stream",
          "name": "stdout",
          "text": [
            "11186\n",
            "11186\n",
            "(11186, 52, 770)\n"
          ]
        }
      ]
    },
    {
      "cell_type": "code",
      "source": [
        "#@title SAVE\n",
        "# Save the sequence pairs and the val indices.\n",
        "with open('11_15pairs.txt', 'w') as f:\n",
        "  for i, pair in enumerate(zip(peptides, proteins)):\n",
        "    p, P = pair\n",
        "    f.write(f'{P}:{p}:{0}\\n')\n",
        "f.close()\n",
        "np.savez_compressed('11_15contacts.npz', a=contacts)"
      ],
      "metadata": {
        "cellView": "form",
        "id": "I5bumaOkFR1f"
      },
      "execution_count": 5,
      "outputs": []
    },
    {
      "cell_type": "code",
      "source": [
        "#@title If sequence/contact data is already generated, just load it directly\n",
        "# Load the protein/peptide pairs into lists\n",
        "import sparse\n",
        "import numpy as np\n",
        "proteins = []\n",
        "peptides = []\n",
        "with open('/content/8_8_24_sequence_pairs_768.txt', 'r') as f:\n",
        "  for line in f:\n",
        "    prot, pep, _ = line.split(':')\n",
        "    proteins.append(prot.replace('\\n', ''))\n",
        "    peptides.append(pep.replace('\\n', ''))\n",
        "f.close()\n",
        "\n",
        "# Load the distance matrices for all pairs\n",
        "sparse_contacts = sparse.load_npz('/content/8_8_24_contacts_768.npz')\n",
        "sparse_contacts = sparse_contacts[:len(peptides)]\n",
        "contacts = sparse_contacts.todense()\n",
        "\n",
        "print(len(peptides))\n",
        "print(len(proteins))\n",
        "contacts.shape"
      ],
      "metadata": {
        "id": "2uOSYn9Jg4z5",
        "cellView": "form"
      },
      "execution_count": null,
      "outputs": []
    },
    {
      "cell_type": "code",
      "source": [
        "# Find the the 10% of interfaces with the lowest\n",
        "# average similarity to all other interfaces\n",
        "\n",
        "contacts_flat = contacts.sum(axis=1)\n",
        "\n",
        "# Normalize embeddings\n",
        "norms = np.linalg.norm(contacts_flat, axis=1, keepdims=True)\n",
        "normalized_embeddings = contacts_flat / norms\n",
        "\n",
        "# Compute cosine similarities matrix\n",
        "cosine_similarities = np.dot(normalized_embeddings, normalized_embeddings.T)\n",
        "\n",
        "# Fill the diagonal with NaNs to ignore self-similarity\n",
        "np.fill_diagonal(cosine_similarities, np.nan)\n",
        "\n",
        "# Compute the average cosine similarity for each embedding\n",
        "average_similarities = np.nanmean(cosine_similarities, axis=1)\n",
        "\n",
        "# Find the indices of the 10% embeddings with the lowest average similarity\n",
        "# These sequences will become the validation set\n",
        "num_lowest = int(len(average_similarities) * 0.1)\n",
        "val_idxs = np.argsort(average_similarities)[:num_lowest]\n",
        "train_idxs = np.setdiff1d(np.arange(contacts_flat.shape[0]), val_idxs)"
      ],
      "metadata": {
        "id": "YgHrycndRVFQ"
      },
      "execution_count": 6,
      "outputs": []
    },
    {
      "cell_type": "code",
      "source": [
        "# Create a 1d array containing the train/val idxs.\n",
        "# For now, set all training idxs to -1\n",
        "all_idxs = np.zeros(contacts.shape[0])\n",
        "all_idxs[train_idxs] = -1"
      ],
      "metadata": {
        "id": "UFXmGQV_ORuv"
      },
      "execution_count": 9,
      "outputs": []
    },
    {
      "cell_type": "code",
      "source": [
        "# Now, remove any sequence pairs that have distance matricies\n",
        "# with > 0.7 cosine similaity to any distance matrix in the validation set\n",
        "\n",
        "from tqdm import tqdm\n",
        "from sklearn.metrics.pairwise import manhattan_distances\n",
        "from scipy.spatial.distance import cdist\n",
        "\n",
        "cosine_similarities = 1 - cdist(contacts_flat[train_idxs], contacts_flat[val_idxs], metric='cosine')\n",
        "max_similarities = np.max(cosine_similarities, axis=1)\n",
        "train_idxs = train_idxs[np.where(max_similarities <= 0.7)[0]]\n",
        "\n",
        "print(train_idxs.shape)"
      ],
      "metadata": {
        "colab": {
          "base_uri": "https://localhost:8080/"
        },
        "id": "9w3KZl8Reun2",
        "outputId": "fe130f5d-1cc4-464e-efa5-0e5a63aa2941"
      },
      "execution_count": 12,
      "outputs": [
        {
          "output_type": "stream",
          "name": "stdout",
          "text": [
            "(9664,)\n"
          ]
        }
      ]
    },
    {
      "cell_type": "code",
      "source": [
        "# Set the new (smaller subset) of training idxs as 1.\n",
        "# Now, the final training idxs are set to 1, val idxs are set to 0, a\n",
        "# and the idxs we will remove are set to -1\n",
        "all_idxs[train_idxs] = 1"
      ],
      "metadata": {
        "id": "F61pZG13O0K4"
      },
      "execution_count": 13,
      "outputs": []
    },
    {
      "cell_type": "code",
      "source": [
        "# Save the sequence pairs and the val indices.\n",
        "final_contacts = []\n",
        "\n",
        "with open('PepFusionSequencePairs.txt', 'w') as f:\n",
        "  for i, pair in enumerate(zip(peptides, proteins, all_idxs)):\n",
        "    p, P, IDX = pair\n",
        "    if IDX == 1:\n",
        "      f.write(f'{P}:{p}:{1}\\n')\n",
        "      final_contacts.append(contacts[i])\n",
        "    elif IDX == 0:\n",
        "      f.write(f'{P}:{p}:{0}\\n')\n",
        "      final_contacts.append(contacts[i])\n",
        "f.close()\n",
        "final_contacts = np.array(final_contacts)\n",
        "\n",
        "!wc -l PepFusionSequencePairs.txt\n",
        "print(final_contacts.shape)"
      ],
      "metadata": {
        "id": "B6p_tJvZiX-3",
        "colab": {
          "base_uri": "https://localhost:8080/"
        },
        "outputId": "94c48b86-d0e1-4bd1-a0a5-3c2de7009fb9"
      },
      "execution_count": 16,
      "outputs": [
        {
          "output_type": "stream",
          "name": "stdout",
          "text": [
            "10782 PepFusionSequencePairs.txt\n",
            "(10782, 52, 770)\n"
          ]
        }
      ]
    },
    {
      "cell_type": "code",
      "source": [
        "np.savez_compressed('PepFusionContacts.npz', a=contacts)"
      ],
      "metadata": {
        "id": "pD-s2CyIi3Mr"
      },
      "execution_count": 17,
      "outputs": []
    },
    {
      "cell_type": "code",
      "source": [
        "negatives = 0\n",
        "positives = 0\n",
        "for c, p, P in zip(contacts, peptides, proteins):\n",
        "  c = c[1:len(p)+1, 1:len(P)+1]\n",
        "  positives += np.count_nonzero(c)\n",
        "  negatives += np.count_nonzero(c == 0)\n",
        "  if c.sum() == 0:\n",
        "    print(c)\n",
        "print(positives)\n",
        "print(negatives)\n",
        "print(negatives/positives)\n",
        "print(positives/negatives)\n",
        "print(1 - (positives/negatives))"
      ],
      "metadata": {
        "colab": {
          "base_uri": "https://localhost:8080/"
        },
        "id": "ueqDqswgSSKh",
        "outputId": "2f98d14c-bed1-443e-a089-062b000006e8"
      },
      "execution_count": 18,
      "outputs": [
        {
          "output_type": "stream",
          "name": "stdout",
          "text": [
            "1724934\n",
            "46588207\n",
            "27.00868960783427\n",
            "0.03702512097106463\n",
            "0.9629748790289354\n"
          ]
        }
      ]
    },
    {
      "cell_type": "code",
      "source": [
        "import matplotlib.pyplot as plt\n",
        "\n",
        "for c, p, P in zip(contacts[:10], peptides[:10], proteins[:10]):\n",
        "  c = c[1:len(p)+1, 1:len(P)+1]\n",
        "  plt.imshow(c, cmap='binary', interpolation='nearest')\n",
        "  plt.show()"
      ],
      "metadata": {
        "colab": {
          "base_uri": "https://localhost:8080/",
          "height": 983
        },
        "id": "9u7I1N5HQK-7",
        "outputId": "29efb19e-fb55-48ba-9697-d4f51fde183b"
      },
      "execution_count": 22,
      "outputs": [
        {
          "output_type": "display_data",
          "data": {
            "text/plain": [
              "<Figure size 640x480 with 1 Axes>"
            ],
            "image/png": "[encoded data removed]"
          },
          "metadata": {}
        },
        {
          "output_type": "display_data",
          "data": {
            "text/plain": [
              "<Figure size 640x480 with 1 Axes>"
            ],
            "image/png": "[encoded data removed]"
          },
          "metadata": {}
        },
        {
          "output_type": "display_data",
          "data": {
            "text/plain": [
              "<Figure size 640x480 with 1 Axes>"
            ],
            "image/png": "[encoded data removed]"
          },
          "metadata": {}
        },
        {
          "output_type": "display_data",
          "data": {
            "text/plain": [
              "<Figure size 640x480 with 1 Axes>"
            ],
            "image/png": "[encoded data removed]"
          },
          "metadata": {}
        },
        {
          "output_type": "display_data",
          "data": {
            "text/plain": [
              "<Figure size 640x480 with 1 Axes>"
            ],
            "image/png": "[encoded data removed]"
          },
          "metadata": {}
        },
        {
          "output_type": "display_data",
          "data": {
            "text/plain": [
              "<Figure size 640x480 with 1 Axes>"
            ],
            "image/png": "[encoded data removed]"
          },
          "metadata": {}
        },
        {
          "output_type": "display_data",
          "data": {
            "text/plain": [
              "<Figure size 640x480 with 1 Axes>"
            ],
            "image/png": "[encoded data removed]"
          },
          "metadata": {}
        },
        {
          "output_type": "display_data",
          "data": {
            "text/plain": [
              "<Figure size 640x480 with 1 Axes>"
            ],
            "image/png": "[encoded data removed]"
          },
          "metadata": {}
        },
        {
          "output_type": "display_data",
          "data": {
            "text/plain": [
              "<Figure size 640x480 with 1 Axes>"
            ],
            "image/png": "[encoded data removed]"
          },
          "metadata": {}
        },
        {
          "output_type": "display_data",
          "data": {
            "text/plain": [
              "<Figure size 640x480 with 1 Axes>"
            ],
            "image/png": "[encoded data removed]"
          },
          "metadata": {}
        }
      ]
    }
  ]
}